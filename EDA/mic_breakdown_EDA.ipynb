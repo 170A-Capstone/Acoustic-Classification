{
 "cells": [
  {
   "cell_type": "markdown",
   "metadata": {},
   "source": [
    "EDA: examination of mic breakdown\n",
    "\n",
    "Discoveries:\n",
    "- there is at least 1 entry which is bad data\n",
    "  - entry uses ME mic channel\n",
    "- all but 72 entries have an ME and SE entry\n",
    "- the 72 exceptions only have an SE entry\n",
    "- there are 34 positions which have a counterpart in two locations\n",
    "  - can be confusing if position is indexed without considering location\n",
    "\n",
    "Action:\n",
    "- filter out non-SE entries"
   ]
  },
  {
   "cell_type": "code",
   "execution_count": 2,
   "metadata": {},
   "outputs": [],
   "source": [
    "path = '2019-10-22-15-30_Fraunhofer-IDMT_30Kmh_650690_A_D_CR_SE_CH12.wav'\n",
    "directory_path = \"./IDMT_Traffic/audio/\""
   ]
  },
  {
   "cell_type": "code",
   "execution_count": 2,
   "metadata": {},
   "outputs": [],
   "source": [
    "import utils.preprocessing_utils as preproc\n",
    "import utils.signal_processing_utils as sp"
   ]
  },
  {
   "cell_type": "code",
   "execution_count": 5,
   "metadata": {},
   "outputs": [
    {
     "data": {
      "text/plain": [
       "4717"
      ]
     },
     "execution_count": 5,
     "metadata": {},
     "output_type": "execute_result"
    }
   ],
   "source": [
    "import os\n",
    "paths = os.listdir(directory_path)\n",
    "paths = [path for path in paths if '-BG' not in path]\n",
    "paths = [path for path in paths if 'ME' not in path]\n",
    "# non_noise.index(path)\n",
    "len(paths)"
   ]
  },
  {
   "cell_type": "code",
   "execution_count": 20,
   "metadata": {},
   "outputs": [
    {
     "data": {
      "text/plain": [
       "['2019-10-22-15-30_Fraunhofer-IDMT_30Kmh_650690_A_D_CR_ME_CH12.wav',\n",
       " '2019-10-22-15-30_Fraunhofer-IDMT_30Kmh_650690_A_D_CR_SE_CH34.wav']"
      ]
     },
     "execution_count": 20,
     "metadata": {},
     "output_type": "execute_result"
    }
   ],
   "source": [
    "[path for path in paths if '650690' in path]"
   ]
  },
  {
   "cell_type": "code",
   "execution_count": 21,
   "metadata": {},
   "outputs": [],
   "source": [
    "path_2 =  '2019-10-22-15-30_Fraunhofer-IDMT_30Kmh_650690_A_D_CR_SE_CH34.wav'"
   ]
  },
  {
   "cell_type": "code",
   "execution_count": 22,
   "metadata": {},
   "outputs": [],
   "source": [
    "signal = preproc.extractAudio(directory_path+path_2)"
   ]
  },
  {
   "cell_type": "code",
   "execution_count": 4,
   "metadata": {},
   "outputs": [],
   "source": [
    "import matplotlib.pyplot as plt"
   ]
  },
  {
   "cell_type": "code",
   "execution_count": 23,
   "metadata": {},
   "outputs": [
    {
     "data": {
      "text/plain": [
       "[<matplotlib.lines.Line2D at 0x18af2d6ee30>]"
      ]
     },
     "execution_count": 23,
     "metadata": {},
     "output_type": "execute_result"
    },
    {
     "data": {
      "image/png": "[encoded data removed]",
      "text/plain": [
       "<Figure size 432x288 with 1 Axes>"
      ]
     },
     "metadata": {
      "needs_background": "light"
     },
     "output_type": "display_data"
    }
   ],
   "source": [
    "plt.plot(signal)"
   ]
  },
  {
   "cell_type": "code",
   "execution_count": 25,
   "metadata": {},
   "outputs": [],
   "source": [
    "import numpy as np\n",
    "import scipy as sp\n",
    "from scipy.stats import kurtosis,skew,mode,gstd,describe,iqr,gmean,hmean,median_abs_deviation,variation,tstd,gstd,moment,entropy\n",
    "from sklearn.preprocessing import normalize\n"
   ]
  },
  {
   "cell_type": "code",
   "execution_count": 26,
   "metadata": {},
   "outputs": [],
   "source": [
    "\n",
    "\n",
    "def extractStatisticalFeatures(signal):\n",
    "\n",
    "    # Global feature extraction\n",
    "    \n",
    "    ft=sp.fft.fft(signal) # code for computing the spectrum using Fast Fourier Transform\n",
    "    magnitude=np.absolute(ft)\n",
    "    spec=magnitude\n",
    "    \n",
    "    k=kurtosis(spec)\n",
    "    s=skew(spec)\n",
    "    mean=np.mean(spec)\n",
    "    z=np.array(mode(spec)[0])\n",
    "    mode_var=float(z)\n",
    "    i=iqr(spec)\n",
    "    g=gmean(spec)\n",
    "    h=hmean(spec)\n",
    "    dev=median_abs_deviation(spec)\n",
    "    var=variation(spec)\n",
    "    variance=np.var(spec)\n",
    "    std=tstd(spec)\n",
    "\n",
    "    # gstd_var=gstd(spec)\n",
    "    gstd_var=0\n",
    "    ent= entropy(spec)\n",
    "    \n",
    "    features=[mode_var,k,s,mean,i,g,h,dev,var,variance,std,gstd_var,ent]\n",
    "\n",
    "    features=normalize([features])\n",
    "    features=np.array(features)\n",
    "    features=np.reshape(features,(13,))\n",
    "    #feat=features # save the matrix and vector in a list\n",
    "    \n",
    "    return features\n",
    "\n",
    "features = extractStatisticalFeatures(signal)\n",
    "# features"
   ]
  },
  {
   "cell_type": "code",
   "execution_count": 18,
   "metadata": {},
   "outputs": [
    {
     "data": {
      "text/plain": [
       "0"
      ]
     },
     "execution_count": 18,
     "metadata": {},
     "output_type": "execute_result"
    }
   ],
   "source": [
    "a = np.isnan(signal)\n",
    "np.sum(a)"
   ]
  },
  {
   "cell_type": "code",
   "execution_count": 75,
   "metadata": {},
   "outputs": [],
   "source": [
    "# features = sp.extractStatisticalFeatures(signal)"
   ]
  },
  {
   "cell_type": "code",
   "execution_count": 77,
   "metadata": {},
   "outputs": [
    {
     "data": {
      "text/plain": [
       "72"
      ]
     },
     "execution_count": 77,
     "metadata": {},
     "output_type": "execute_result"
    }
   ],
   "source": [
    "# condition = lambda path: 'SE' in path\n",
    "\n",
    "count_SE = len(list(filter(lambda path: 'SE' in path, paths)))\n",
    "count_ME = len(list(filter(lambda path: 'ME' in path, paths)))\n",
    "\n",
    "abs(count_SE-count_ME)"
   ]
  },
  {
   "cell_type": "code",
   "execution_count": 65,
   "metadata": {},
   "outputs": [],
   "source": [
    "def extractFeatures(path):\n",
    "    features = path[:-4].split('_')\n",
    "    features[2] = features[2][:-3]\n",
    "    features[-1] = features[-1][2:]\n",
    "    features = features[:6] + [features[6][0],features[6][1]] + features[7:]\n",
    "    return features\n",
    "\n",
    "def extractPosMic(path):\n",
    "    features = extractFeatures(path)\n",
    "    return [features[0],features[-2]]"
   ]
  },
  {
   "cell_type": "code",
   "execution_count": 28,
   "metadata": {},
   "outputs": [
    {
     "data": {
      "text/plain": [
       "['1116695', 'ME']"
      ]
     },
     "execution_count": 28,
     "metadata": {},
     "output_type": "execute_result"
    }
   ],
   "source": [
    "extractFeatures(paths[0])"
   ]
  },
  {
   "cell_type": "code",
   "execution_count": 30,
   "metadata": {},
   "outputs": [],
   "source": [
    "features = [extractPosMic(path) for path in paths]"
   ]
  },
  {
   "cell_type": "code",
   "execution_count": 32,
   "metadata": {},
   "outputs": [],
   "source": [
    "a = {}\n",
    "\n",
    "for id,mic in features:\n",
    "    if not id in a:\n",
    "        a[id] = []\n",
    "    a[id].append(mic)"
   ]
  },
  {
   "cell_type": "code",
   "execution_count": 43,
   "metadata": {},
   "outputs": [
    {
     "data": {
      "text/plain": [
       "4683"
      ]
     },
     "execution_count": 43,
     "metadata": {},
     "output_type": "execute_result"
    }
   ],
   "source": [
    "len(a)"
   ]
  },
  {
   "cell_type": "code",
   "execution_count": 33,
   "metadata": {},
   "outputs": [],
   "source": [
    "b = {id: len(mics) for id,mics in a.items()}\n"
   ]
  },
  {
   "cell_type": "code",
   "execution_count": 44,
   "metadata": {},
   "outputs": [
    {
     "data": {
      "text/plain": [
       "4683"
      ]
     },
     "execution_count": 44,
     "metadata": {},
     "output_type": "execute_result"
    }
   ],
   "source": [
    "len(b)"
   ]
  },
  {
   "cell_type": "code",
   "execution_count": 56,
   "metadata": {},
   "outputs": [
    {
     "data": {
      "text/plain": [
       "72"
      ]
     },
     "execution_count": 56,
     "metadata": {},
     "output_type": "execute_result"
    }
   ],
   "source": [
    "e = [id for id,num_mics in b.items() if num_mics < 2]\n",
    "len(e)"
   ]
  },
  {
   "cell_type": "code",
   "execution_count": 64,
   "metadata": {},
   "outputs": [
    {
     "data": {
      "text/plain": [
       "34"
      ]
     },
     "execution_count": 64,
     "metadata": {},
     "output_type": "execute_result"
    }
   ],
   "source": [
    "f = [id for id,num_mics in b.items() if num_mics == 4]\n",
    "len(f)"
   ]
  },
  {
   "cell_type": "code",
   "execution_count": 73,
   "metadata": {},
   "outputs": [
    {
     "data": {
      "text/plain": [
       "['2019-10-22-16-35_Fraunhofer-IDMT_30Kmh_1214232_A_D_CL_ME_CH12.wav',\n",
       " '2019-10-22-16-35_Fraunhofer-IDMT_30Kmh_1214232_A_D_CL_SE_CH34.wav',\n",
       " '2019-11-18-15-45_Langewiesener-Strasse_50Kmh_1214232_A_D_CL_ME_CH12.wav',\n",
       " '2019-11-18-15-45_Langewiesener-Strasse_50Kmh_1214232_A_D_CL_SE_CH34.wav']"
      ]
     },
     "execution_count": 73,
     "metadata": {},
     "output_type": "execute_result"
    }
   ],
   "source": [
    "new_paths = []\n",
    "for path in paths:\n",
    "    features = extractFeatures(path)\n",
    "    # if features[3] in f:\n",
    "    if features[3] == f[2]:\n",
    "        new_paths.append(path)\n",
    "\n",
    "# len(new_paths)/4\n",
    "new_paths"
   ]
  },
  {
   "cell_type": "code",
   "execution_count": 71,
   "metadata": {},
   "outputs": [
    {
     "data": {
      "text/plain": [
       "['2019-10-22-08-40_Fraunhofer-IDMT_30Kmh_1626008_M_D_CR_ME_CH12.wav',\n",
       " '2019-10-22-08-40_Fraunhofer-IDMT_30Kmh_1626008_M_D_CR_SE_CH34.wav',\n",
       " '2019-11-18-16-40_Langewiesener-Strasse_50Kmh_1626008_A_D_TL_ME_CH12.wav',\n",
       " '2019-11-18-16-40_Langewiesener-Strasse_50Kmh_1626008_A_D_TL_SE_CH34.wav']"
      ]
     },
     "execution_count": 71,
     "metadata": {},
     "output_type": "execute_result"
    }
   ],
   "source": [
    "new_paths"
   ]
  },
  {
   "cell_type": "code",
   "execution_count": 59,
   "metadata": {},
   "outputs": [
    {
     "data": {
      "text/plain": [
       "'2019-10-22-08-40_Fraunhofer-IDMT_30Kmh_1116695_M_D_CR_ME_CH12.wav'"
      ]
     },
     "execution_count": 59,
     "metadata": {},
     "output_type": "execute_result"
    }
   ],
   "source": [
    "paths[0]"
   ]
  },
  {
   "cell_type": "code",
   "execution_count": 58,
   "metadata": {},
   "outputs": [
    {
     "data": {
      "text/plain": [
       "{'129666': ['SE'],\n",
       " '134600': ['SE'],\n",
       " '139160': ['SE'],\n",
       " '1793573': ['SE'],\n",
       " '1895856': ['SE'],\n",
       " '1903800': ['SE'],\n",
       " '1909056': ['SE'],\n",
       " '1911944': ['SE'],\n",
       " '1917112': ['SE'],\n",
       " '1941152': ['SE'],\n",
       " '1942344': ['SE'],\n",
       " '1946544': ['SE'],\n",
       " '1947400': ['SE'],\n",
       " '2115047': ['SE'],\n",
       " '2553480': ['SE'],\n",
       " '2555504': ['SE'],\n",
       " '265000': ['SE'],\n",
       " '269688': ['SE'],\n",
       " '2788272': ['SE'],\n",
       " '3105336': ['SE'],\n",
       " '3326888': ['SE'],\n",
       " '3330360': ['SE'],\n",
       " '3332176': ['SE'],\n",
       " '3335336': ['SE'],\n",
       " '3336504': ['SE'],\n",
       " '3337928': ['SE'],\n",
       " '3339256': ['SE'],\n",
       " '3444960': ['SE'],\n",
       " '4145960': ['SE'],\n",
       " '4255536': ['SE'],\n",
       " '4256816': ['SE'],\n",
       " '4513033': ['SE'],\n",
       " '4532636': ['SE'],\n",
       " '4710550': ['SE'],\n",
       " '4711927': ['SE'],\n",
       " '4715388': ['SE'],\n",
       " '4716626': ['SE'],\n",
       " '4718465': ['SE'],\n",
       " '4719584': ['SE'],\n",
       " '4724861': ['SE'],\n",
       " '4726152': ['SE'],\n",
       " '4733359': ['SE'],\n",
       " '4738560': ['SE'],\n",
       " '4953673': ['SE'],\n",
       " '501875': ['SE'],\n",
       " '598780': ['SE'],\n",
       " '6002996': ['SE'],\n",
       " '6003944': ['SE'],\n",
       " '6005750': ['SE'],\n",
       " '6044669': ['SE'],\n",
       " '6045302': ['SE'],\n",
       " '6055078': ['SE'],\n",
       " '6055936': ['SE'],\n",
       " '6056520': ['SE'],\n",
       " '6129093': ['SE'],\n",
       " '6130280': ['SE'],\n",
       " '6131533': ['SE'],\n",
       " '6132873': ['SE'],\n",
       " '6134860': ['SE'],\n",
       " '6178846': ['SE'],\n",
       " '6180060': ['SE'],\n",
       " '6180986': ['SE'],\n",
       " '6182193': ['SE'],\n",
       " '6184780': ['SE'],\n",
       " '809148': ['SE'],\n",
       " '810332': ['SE'],\n",
       " '811104': ['SE'],\n",
       " '816213': ['SE'],\n",
       " '817360': ['SE'],\n",
       " '863046': ['SE'],\n",
       " '863926': ['SE'],\n",
       " '864753': ['SE']}"
      ]
     },
     "execution_count": 58,
     "metadata": {},
     "output_type": "execute_result"
    }
   ],
   "source": [
    "{id:mics for id,mics in a.items() if id in e}"
   ]
  },
  {
   "cell_type": "code",
   "execution_count": 47,
   "metadata": {},
   "outputs": [
    {
     "data": {
      "text/plain": [
       "4683"
      ]
     },
     "execution_count": 47,
     "metadata": {},
     "output_type": "execute_result"
    }
   ],
   "source": [
    "c = list(b.values())\n",
    "len(c)"
   ]
  },
  {
   "cell_type": "code",
   "execution_count": 52,
   "metadata": {},
   "outputs": [
    {
     "data": {
      "text/plain": [
       "{0: 0, 1: 72, 2: 4577, 3: 0, 4: 34, 5: 0, 6: 0, 7: 0}"
      ]
     },
     "execution_count": 52,
     "metadata": {},
     "output_type": "execute_result"
    }
   ],
   "source": [
    "d = {i:len(list(filter(lambda num_mics:num_mics==i,c))) for i in range(8)}\n",
    "d\n",
    "# for id,num_mics in b.items():\n",
    "#     c[num_mics]"
   ]
  }
 ],
 "metadata": {
  "kernelspec": {
   "display_name": "Python 3",
   "language": "python",
   "name": "python3"
  },
  "language_info": {
   "codemirror_mode": {
    "name": "ipython",
    "version": 3
   },
   "file_extension": ".py",
   "mimetype": "text/x-python",
   "name": "python",
   "nbconvert_exporter": "python",
   "pygments_lexer": "ipython3",
   "version": "3.10.11"
  }
 },
 "nbformat": 4,
 "nbformat_minor": 2
}
