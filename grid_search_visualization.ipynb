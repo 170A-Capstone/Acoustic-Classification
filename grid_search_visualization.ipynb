{
 "cells": [
  {
   "cell_type": "code",
   "execution_count": 2,
   "metadata": {},
   "outputs": [],
   "source": [
    "data = {}"
   ]
  },
  {
   "cell_type": "code",
   "execution_count": 7,
   "metadata": {},
   "outputs": [],
   "source": [
    "class Test():\n",
    "    def __init__(self) -> None:\n",
    "        pass\n",
    "    \n",
    "    @staticmethod\n",
    "    def name():\n",
    "        return 'b'"
   ]
  },
  {
   "cell_type": "code",
   "execution_count": 3,
   "metadata": {},
   "outputs": [
    {
     "data": {
      "text/plain": [
       "{'a': 'a'}"
      ]
     },
     "execution_count": 3,
     "metadata": {},
     "output_type": "execute_result"
    }
   ],
   "source": [
    "a = 'a'\n",
    "data[a] = a\n",
    "data"
   ]
  },
  {
   "cell_type": "code",
   "execution_count": 8,
   "metadata": {},
   "outputs": [
    {
     "data": {
      "text/plain": [
       "{'a': 'a', 'b': 'a'}"
      ]
     },
     "execution_count": 8,
     "metadata": {},
     "output_type": "execute_result"
    }
   ],
   "source": [
    "data[Test.name()] = a\n",
    "data"
   ]
  },
  {
   "cell_type": "code",
   "execution_count": 12,
   "metadata": {},
   "outputs": [
    {
     "data": {
      "text/plain": [
       "0.1"
      ]
     },
     "execution_count": 12,
     "metadata": {},
     "output_type": "execute_result"
    }
   ],
   "source": [
    "10**-1"
   ]
  },
  {
   "cell_type": "code",
   "execution_count": 13,
   "metadata": {},
   "outputs": [
    {
     "data": {
      "text/plain": [
       "[1, 0.1, 0.01, 0.001, 0.0001]"
      ]
     },
     "execution_count": 13,
     "metadata": {},
     "output_type": "execute_result"
    }
   ],
   "source": [
    "learning_rates = [10**-i for i in range(5)]\n",
    "learning_rates"
   ]
  },
  {
   "cell_type": "code",
   "execution_count": 16,
   "metadata": {},
   "outputs": [
    {
     "name": "stdout",
     "output_type": "stream",
     "text": [
      "{\n",
      "    \"shallow\": {\n",
      "        \"1\": {\n",
      "            \"accuracy\": 0.8125,\n",
      "            \"loss\": [\n",
      "                0.0007994729676283896,\n",
      "                0.0004394695279188454,\n",
      "                0.00029084066045470536,\n",
      "                0.00021884875604882836,\n",
      "                0.00017475962522439659\n",
      "            ]\n",
      "        },\n",
      "        \"0.1\": {\n",
      "            \"accuracy\": 0.8125,\n",
      "            \"loss\": [\n",
      "                0.005915471352636814,\n",
      "                0.005138589534908533,\n",
      "                0.004570827819406986,\n",
      "                0.004128441214561462,\n",
      "                0.0037735619116574526\n",
      "            ]\n",
      "        },\n",
      "        \"0.01\": {\n",
      "            \"accuracy\": 0.8125,\n",
      "            \"loss\": [\n",
      "                0.009194321930408478,\n",
      "                0.00868054386228323,\n",
      "                0.008551733568310738,\n",
      "                0.008488863706588745,\n",
      "                0.008444685488939285\n",
      "            ]\n",
      "        },\n",
      "        \"0.001\": {\n",
      "            \"accuracy\": 0.8125,\n",
      "            \"loss\": [\n",
      "                0.03587906435132027,\n",
      "                0.020138058811426163,\n",
      "                0.015494713559746742,\n",
      "                0.013425210490822792,\n",
      "                0.01231287606060505\n",
      "            ]\n",
      "        },\n",
      "        \"0.0001\": {\n",
      "            \"accuracy\": 0.8125,\n",
      "            \"loss\": [\n",
      "                0.1972740888595581,\n",
      "                0.14285847544670105,\n",
      "                0.10842882096767426,\n",
      "                0.08598102629184723,\n",
      "                0.07070834934711456\n",
      "            ]\n",
      "        }\n",
      "    },\n",
      "    \"deep\": {\n",
      "        \"1\": {\n",
      "            \"accuracy\": 0.8125,\n",
      "            \"loss\": [\n",
      "                0.006182496901601553,\n",
      "                0.006180888507515192,\n",
      "                0.00618073670193553,\n",
      "                0.006180720403790474,\n",
      "                0.006180718541145325\n",
      "            ]\n",
      "        },\n",
      "        \"0.1\": {\n",
      "            \"accuracy\": 0.8125,\n",
      "            \"loss\": [\n",
      "                0.0037205140106379986,\n",
      "                0.0019810006488114595,\n",
      "                0.0009457682608626783,\n",
      "                0.00045241694897413254,\n",
      "                0.000535747327376157\n",
      "            ]\n",
      "        },\n",
      "        \"0.01\": {\n",
      "            \"accuracy\": 0.8125,\n",
      "            \"loss\": [\n",
      "                0.007590011693537235,\n",
      "                0.00738500477746129,\n",
      "                0.0072246091440320015,\n",
      "                0.007152119651436806,\n",
      "                0.006906973198056221\n",
      "            ]\n",
      "        },\n",
      "        \"0.001\": {\n",
      "            \"accuracy\": 0.8125,\n",
      "            \"loss\": [\n",
      "                0.014049550518393517,\n",
      "                0.009588919579982758,\n",
      "                0.009069086983799934,\n",
      "                0.008926263079047203,\n",
      "                0.008861428126692772\n",
      "            ]\n",
      "        },\n",
      "        \"0.0001\": {\n",
      "            \"accuracy\": 0.8125,\n",
      "            \"loss\": [\n",
      "                0.17555417120456696,\n",
      "                0.11848925054073334,\n",
      "                0.07710736989974976,\n",
      "                0.05131371691823006,\n",
      "                0.03644156828522682\n",
      "            ]\n",
      "        }\n",
      "    }\n",
      "}\n"
     ]
    }
   ],
   "source": [
    "import json\n",
    "\n",
    "# Specify the path to the JSON file\n",
    "file_path = \"./model_params/1/results.json\"\n",
    "\n",
    "# Load the JSON file\n",
    "with open(file_path, \"r\") as json_file:\n",
    "    data = json.load(json_file)\n",
    "\n",
    "pretty_json = json.dumps(data, indent=4)\n",
    "print(pretty_json)\n"
   ]
  },
  {
   "cell_type": "code",
   "execution_count": 27,
   "metadata": {},
   "outputs": [],
   "source": [
    "model_classes = list(data.keys())"
   ]
  },
  {
   "cell_type": "code",
   "execution_count": 28,
   "metadata": {},
   "outputs": [
    {
     "data": {
      "text/plain": [
       "['shallow', 'deep']"
      ]
     },
     "execution_count": 28,
     "metadata": {},
     "output_type": "execute_result"
    }
   ],
   "source": [
    "model_classes"
   ]
  },
  {
   "cell_type": "code",
   "execution_count": 31,
   "metadata": {},
   "outputs": [],
   "source": [
    "learning_rates = list(data[model_classes[0]].keys())"
   ]
  },
  {
   "cell_type": "code",
   "execution_count": 46,
   "metadata": {},
   "outputs": [],
   "source": [
    "attrs = list(data[model_classes[0]].values())\n",
    "losses = [attr['loss'] for attr in attrs]\n",
    "losses = list(zip(data[model_classes[0]].keys(),losses))"
   ]
  },
  {
   "cell_type": "code",
   "execution_count": 57,
   "metadata": {},
   "outputs": [],
   "source": [
    "accuracies = [attr['accuracy'] for attr in attrs]"
   ]
  },
  {
   "cell_type": "code",
   "execution_count": 65,
   "metadata": {},
   "outputs": [
    {
     "data": {
      "text/plain": [
       "dict_keys(['1', '0.1', '0.01', '0.001', '0.0001'])"
      ]
     },
     "execution_count": 65,
     "metadata": {},
     "output_type": "execute_result"
    }
   ],
   "source": [
    "data[model_classes[0]].keys()"
   ]
  },
  {
   "cell_type": "code",
   "execution_count": 55,
   "metadata": {},
   "outputs": [
    {
     "data": {
      "text/plain": [
       "[('1', 0.8125),\n",
       " ('0.1', 0.8125),\n",
       " ('0.01', 0.8125),\n",
       " ('0.001', 0.8125),\n",
       " ('0.0001', 0.8125)]"
      ]
     },
     "execution_count": 55,
     "metadata": {},
     "output_type": "execute_result"
    }
   ],
   "source": [
    "accuracies = [(lr,attr['accuracy']) for lr,attr in data[model_classes[0]].items()]\n",
    "accuracies"
   ]
  },
  {
   "cell_type": "code",
   "execution_count": 74,
   "metadata": {},
   "outputs": [
    {
     "data": {
      "image/png": "[encoded data removed]",
      "text/plain": [
       "<Figure size 432x288 with 1 Axes>"
      ]
     },
     "metadata": {
      "needs_background": "light"
     },
     "output_type": "display_data"
    }
   ],
   "source": [
    "x = range(len(accuracies))\n",
    "\n",
    "for model in model_classes:\n",
    "\n",
    "    attrs = list(data[model].values())\n",
    "    accuracies = [attr['accuracy'] for attr in attrs]\n",
    "    plt.plot(x,accuracies,label=model)\n",
    "\n",
    "plt.title('Accuracy v LR for Neural Network Types')\n",
    "plt.xlabel('LR')\n",
    "plt.ylabel('Accuracy')\n",
    "plt.xticks(x,data[model_classes[0]].keys())\n",
    "plt.legend()\n",
    "plt.show()"
   ]
  },
  {
   "cell_type": "code",
   "execution_count": 37,
   "metadata": {},
   "outputs": [],
   "source": [
    "import pandas as pd\n",
    "import matplotlib.pyplot as plt"
   ]
  },
  {
   "cell_type": "code",
   "execution_count": 48,
   "metadata": {},
   "outputs": [
    {
     "data": {
      "image/png": "[encoded data removed]",
      "text/plain": [
       "<Figure size 432x288 with 1 Axes>"
      ]
     },
     "metadata": {
      "needs_background": "light"
     },
     "output_type": "display_data"
    }
   ],
   "source": [
    "[plt.plot(loss,label=f'{lr}') for lr,loss in losses]\n",
    "plt.title('Losses v LR for Shallow Network')\n",
    "plt.xlabel('Epoch')\n",
    "plt.ylabel('Loss')\n",
    "plt.legend()\n",
    "plt.show()"
   ]
  }
 ],
 "metadata": {
  "kernelspec": {
   "display_name": "Python 3",
   "language": "python",
   "name": "python3"
  },
  "language_info": {
   "codemirror_mode": {
    "name": "ipython",
    "version": 3
   },
   "file_extension": ".py",
   "mimetype": "text/x-python",
   "name": "python",
   "nbconvert_exporter": "python",
   "pygments_lexer": "ipython3",
   "version": "3.10.11"
  }
 },
 "nbformat": 4,
 "nbformat_minor": 2
}
