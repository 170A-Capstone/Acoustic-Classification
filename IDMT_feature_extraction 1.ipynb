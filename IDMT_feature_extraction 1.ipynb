{
 "cells": [
  {
   "cell_type": "code",
   "execution_count": 3,
   "id": "8ff83a99",
   "metadata": {},
   "outputs": [],
   "source": [
    "# import dependencies\n",
    "#import tensorflow as tf\n",
    "from glob import glob\n",
    "import pandas as pd\n",
    "import librosa\n",
    "import librosa.display\n",
    "import numpy as np\n",
    "from librosa.util import fix_length\n",
    "import scipy as sp\n",
    "import spafe\n",
    "from scipy.stats import kurtosis,skew,mode,gstd,describe,iqr,gmean,hmean,median_abs_deviation,variation,tstd,gstd,moment,entropy\n",
    "from spafe.features import pncc,gfcc,bfcc,mfcc,lfcc,lpc,ngcc,rplp,psrcc,msrcc\n",
    "from sklearn.preprocessing import normalize"
   ]
  },
  {
   "cell_type": "code",
   "execution_count": 16,
   "id": "8b3147c7",
   "metadata": {},
   "outputs": [],
   "source": [
    "pth=glob('/Users/cecima/Desktop/170B-Proj/Acoustic-Classification/IDMT_Traffic/audio/*') # insert path of folder which contains all recordings"
   ]
  },
  {
   "cell_type": "code",
   "execution_count": 22,
   "id": "14758df8",
   "metadata": {},
   "outputs": [
    {
     "name": "stdout",
     "output_type": "stream",
     "text": [
      "17506\n",
      "/2019-11-18-07-25_Langewiesener-Strasse_50Kmh_1103360_ME_CH12-BG.wav\n"
     ]
    }
   ],
   "source": [
    "x=pth[0]\n",
    "print(len(pth))\n",
    "print(x[74:])"
   ]
  },
  {
   "cell_type": "code",
   "execution_count": 13,
   "id": "dcc1185b",
   "metadata": {},
   "outputs": [],
   "source": [
    "# fucntion that extracts features\n",
    "\n",
    "from spafe.features.gfcc import gfcc # type: ignore\n",
    "from spafe.features.mfcc import mfcc\n",
    "\n",
    "def features_extractor(file):\n",
    "    \n",
    "    #load the file (audio)\n",
    "    \n",
    "    sig, sr = librosa.load(file)\n",
    "    \n",
    "    # pad audio files to avoid any dimensional issue\n",
    "    \n",
    "    required_audio_size=3\n",
    "    audio = fix_length(sig, size=required_audio_size*sr) \n",
    "    \n",
    "    #Code for feature extraction\n",
    "\n",
    "    # local feature extraction (use only one feature as per requirement)\n",
    "    \n",
    "    S = gfcc(sig=sig, fs=sr, num_ceps=40,nfilts=128,nfft=2048)\n",
    "#     S = mfcc(sig=sig, fs=sr, num_ceps=40,nfilts=128,nfft=2048,win_hop=0.0232,win_len=0.0464)\n",
    "#     S=librosa.feature.melspectrogram(sig, sr=sr, n_mels=128,n_fft=2048,hop_length=512,win_length=1024)\n",
    "\n",
    "    # Global feature extraction\n",
    "    \n",
    "    ft=sp.fft.fft(sig) # code for computing the spectrum using Fast Fourier Transform\n",
    "    magnitude=np.absolute(ft)\n",
    "    spec=magnitude[0:11025]\n",
    "    \n",
    "    k=kurtosis(spec)\n",
    "    s=skew(spec)\n",
    "    mean=np.mean(spec)\n",
    "    z=np.array(mode(spec)[0])\n",
    "    mode_var=float(z)\n",
    "    i=iqr(spec)\n",
    "    g=gmean(spec)\n",
    "    h=hmean(spec)\n",
    "    dev=median_abs_deviation(spec)\n",
    "    var=variation(spec)\n",
    "    variance=np.var(spec)\n",
    "    std=tstd(spec)\n",
    "    gstd_var=gstd(spec)\n",
    "    ent= entropy(spec)\n",
    "    \n",
    "    features=[mode_var,k,s,mean,i,g,h,dev,var,variance,std,gstd_var,ent]\n",
    "    features=normalize([features])\n",
    "    features=np.array(features)\n",
    "    features=np.reshape(features,(13,))\n",
    "    feat=[S,features] # save the matrix and vector in a list\n",
    "    \n",
    "    return feat"
   ]
  },
  {
   "cell_type": "code",
   "execution_count": 14,
   "id": "05d30f5a",
   "metadata": {},
   "outputs": [],
   "source": [
    "# Function for building the dataframe and calling the feature extractor function to save the features within the dataframe\n",
    "\n",
    "def preproc_dataset(arr):\n",
    "    \n",
    "    features=[]\n",
    "    for v in arr:\n",
    "        f=features_extractor(v)\n",
    "        v = v.replace('.wav', '')\n",
    "        v=v[74 :] # replace the number (54) in this line with the number of characters to be removed from the beginning of the path of audio file \n",
    "        parts = v.split('_')\n",
    "        parts[2] = parts[2][:-3]\n",
    "        parts[-1] = parts[-1][2:]\n",
    "        parts = parts[:6] + [parts[6][0],parts[6][1]] + parts[7:]\n",
    "        date,location,speed,position,daytime,weather,class_,source_direction,mic,channel= parts\n",
    "      \n",
    "        features.append({'file': v,\n",
    "                           'date': date,\n",
    "                           'location':location,\n",
    "                           'speed':speed,\n",
    "                           'position':position,\n",
    "                           'daytime':daytime,\n",
    "                           'weather':weather,\n",
    "                           'class':class_,\n",
    "                           'source direction':source_direction,\n",
    "                          'mic':mic,\n",
    "                          'channel':channel,\n",
    "                           'feature': f,\n",
    "                           })\n",
    "        \n",
    "    df_dataset = pd.DataFrame(features, columns=('file','date', 'location','speed','position','daytime','weather','class','source direction','mic','channel','feature'))      \n",
    "    # df_dataset = pd.DataFrame(mfcc, columns=('file','date', 'location','speed','position','daytime','weather','class','source direction','mic','channel','feature')) \n",
    "\n",
    "    return df_dataset"
   ]
  },
  {
   "cell_type": "code",
   "execution_count": 15,
   "id": "7ed3b262",
   "metadata": {},
   "outputs": [
    {
     "ename": "IndexError",
     "evalue": "list index out of range",
     "output_type": "error",
     "traceback": [
      "\u001b[0;31m---------------------------------------------------------------------------\u001b[0m",
      "\u001b[0;31mIndexError\u001b[0m                                Traceback (most recent call last)",
      "Cell \u001b[0;32mIn[15], line 1\u001b[0m\n\u001b[0;32m----> 1\u001b[0m df_train\u001b[38;5;241m=\u001b[39m\u001b[43mpreproc_dataset\u001b[49m\u001b[43m(\u001b[49m\u001b[43mpth\u001b[49m\u001b[43m)\u001b[49m\n\u001b[1;32m      2\u001b[0m df_train\u001b[38;5;241m=\u001b[39mdf_train\u001b[38;5;241m.\u001b[39msample(frac\u001b[38;5;241m=\u001b[39m\u001b[38;5;241m1\u001b[39m)\u001b[38;5;241m.\u001b[39mreset_index(drop\u001b[38;5;241m=\u001b[39m\u001b[38;5;28;01mTrue\u001b[39;00m)\n",
      "Cell \u001b[0;32mIn[14], line 13\u001b[0m, in \u001b[0;36mpreproc_dataset\u001b[0;34m(arr)\u001b[0m\n\u001b[1;32m     11\u001b[0m parts[\u001b[38;5;241m2\u001b[39m] \u001b[38;5;241m=\u001b[39m parts[\u001b[38;5;241m2\u001b[39m][:\u001b[38;5;241m-\u001b[39m\u001b[38;5;241m3\u001b[39m]\n\u001b[1;32m     12\u001b[0m parts[\u001b[38;5;241m-\u001b[39m\u001b[38;5;241m1\u001b[39m] \u001b[38;5;241m=\u001b[39m parts[\u001b[38;5;241m-\u001b[39m\u001b[38;5;241m1\u001b[39m][\u001b[38;5;241m2\u001b[39m:]\n\u001b[0;32m---> 13\u001b[0m parts \u001b[38;5;241m=\u001b[39m parts[:\u001b[38;5;241m6\u001b[39m] \u001b[38;5;241m+\u001b[39m [\u001b[43mparts\u001b[49m\u001b[43m[\u001b[49m\u001b[38;5;241;43m6\u001b[39;49m\u001b[43m]\u001b[49m[\u001b[38;5;241m0\u001b[39m],parts[\u001b[38;5;241m6\u001b[39m][\u001b[38;5;241m1\u001b[39m]] \u001b[38;5;241m+\u001b[39m parts[\u001b[38;5;241m7\u001b[39m:]\n\u001b[1;32m     14\u001b[0m date,location,speed,position,daytime,weather,class_,source_direction,mic,channel\u001b[38;5;241m=\u001b[39m parts\n\u001b[1;32m     16\u001b[0m features\u001b[38;5;241m.\u001b[39mappend({\u001b[38;5;124m'\u001b[39m\u001b[38;5;124mfile\u001b[39m\u001b[38;5;124m'\u001b[39m: v,\n\u001b[1;32m     17\u001b[0m                    \u001b[38;5;124m'\u001b[39m\u001b[38;5;124mdate\u001b[39m\u001b[38;5;124m'\u001b[39m: date,\n\u001b[1;32m     18\u001b[0m                    \u001b[38;5;124m'\u001b[39m\u001b[38;5;124mlocation\u001b[39m\u001b[38;5;124m'\u001b[39m:location,\n\u001b[0;32m   (...)\u001b[0m\n\u001b[1;32m     27\u001b[0m                    \u001b[38;5;124m'\u001b[39m\u001b[38;5;124mfeature\u001b[39m\u001b[38;5;124m'\u001b[39m: f,\n\u001b[1;32m     28\u001b[0m                    })\n",
      "\u001b[0;31mIndexError\u001b[0m: list index out of range"
     ]
    }
   ],
   "source": [
    "df_train=preproc_dataset(pth)\n",
    "df_train=df_train.sample(frac=1).reset_index(drop=True)"
   ]
  },
  {
   "cell_type": "code",
   "execution_count": null,
   "id": "e022c88a",
   "metadata": {},
   "outputs": [
    {
     "data": {
      "text/plain": [
       "30    2\n",
       "Name: speed, dtype: int64"
      ]
     },
     "execution_count": 105,
     "metadata": {},
     "output_type": "execute_result"
    }
   ],
   "source": [
    "df_train['speed'].value_counts()"
   ]
  },
  {
   "cell_type": "code",
   "execution_count": null,
   "id": "e8ff26c1",
   "metadata": {},
   "outputs": [],
   "source": [
    "z=df_train['feature']\n",
    "x=z.tolist()\n",
    "y=np.array(x,dtype=object)\n",
    "array=np.save('mvd_gfcc.npy',y)"
   ]
  },
  {
   "cell_type": "code",
   "execution_count": null,
   "id": "c8a59316",
   "metadata": {},
   "outputs": [],
   "source": [
    "df_train=df_train.drop(['feature'], axis=1)\n",
    "\n",
    "df_train.to_csv('IDMT_gfcc.csv')"
   ]
  },
  {
   "cell_type": "code",
   "execution_count": null,
   "id": "27bfeee0",
   "metadata": {},
   "outputs": [
    {
     "data": {
      "text/html": [
       "<div>\n",
       "<style scoped>\n",
       "    .dataframe tbody tr th:only-of-type {\n",
       "        vertical-align: middle;\n",
       "    }\n",
       "\n",
       "    .dataframe tbody tr th {\n",
       "        vertical-align: top;\n",
       "    }\n",
       "\n",
       "    .dataframe thead th {\n",
       "        text-align: right;\n",
       "    }\n",
       "</style>\n",
       "<table border=\"1\" class=\"dataframe\">\n",
       "  <thead>\n",
       "    <tr style=\"text-align: right;\">\n",
       "      <th></th>\n",
       "      <th>file</th>\n",
       "      <th>date</th>\n",
       "      <th>location</th>\n",
       "      <th>speed</th>\n",
       "      <th>position</th>\n",
       "      <th>daytime</th>\n",
       "      <th>weather</th>\n",
       "      <th>class</th>\n",
       "      <th>source direction</th>\n",
       "      <th>mic</th>\n",
       "      <th>channel</th>\n",
       "    </tr>\n",
       "  </thead>\n",
       "  <tbody>\n",
       "    <tr>\n",
       "      <th>0</th>\n",
       "      <td>2019-10-22-08-40_Fraunhofer-IDMT_30Kmh_1141442...</td>\n",
       "      <td>2019-10-22-08-40</td>\n",
       "      <td>Fraunhofer-IDMT</td>\n",
       "      <td>30</td>\n",
       "      <td>1141442</td>\n",
       "      <td>M</td>\n",
       "      <td>D</td>\n",
       "      <td>C</td>\n",
       "      <td>R</td>\n",
       "      <td>ME</td>\n",
       "      <td>12</td>\n",
       "    </tr>\n",
       "    <tr>\n",
       "      <th>1</th>\n",
       "      <td>2019-10-22-08-40_Fraunhofer-IDMT_30Kmh_1172589...</td>\n",
       "      <td>2019-10-22-08-40</td>\n",
       "      <td>Fraunhofer-IDMT</td>\n",
       "      <td>30</td>\n",
       "      <td>1172589</td>\n",
       "      <td>M</td>\n",
       "      <td>D</td>\n",
       "      <td>C</td>\n",
       "      <td>L</td>\n",
       "      <td>ME</td>\n",
       "      <td>12</td>\n",
       "    </tr>\n",
       "  </tbody>\n",
       "</table>\n",
       "</div>"
      ],
      "text/plain": [
       "                                                file              date  \\\n",
       "0  2019-10-22-08-40_Fraunhofer-IDMT_30Kmh_1141442...  2019-10-22-08-40   \n",
       "1  2019-10-22-08-40_Fraunhofer-IDMT_30Kmh_1172589...  2019-10-22-08-40   \n",
       "\n",
       "          location speed position daytime weather class source direction mic  \\\n",
       "0  Fraunhofer-IDMT    30  1141442       M       D     C                R  ME   \n",
       "1  Fraunhofer-IDMT    30  1172589       M       D     C                L  ME   \n",
       "\n",
       "  channel  \n",
       "0      12  \n",
       "1      12  "
      ]
     },
     "execution_count": 114,
     "metadata": {},
     "output_type": "execute_result"
    }
   ],
   "source": [
    "df_train"
   ]
  },
  {
   "cell_type": "code",
   "execution_count": null,
   "id": "f87bc720",
   "metadata": {},
   "outputs": [
    {
     "data": {
      "text/plain": [
       "[array([[ 5.25014720e-01, -2.52407914e-01, -8.01031339e-02, ...,\n",
       "         -6.27609463e-03,  1.69900208e-03, -4.18484708e-04],\n",
       "        [ 5.14255953e-01, -2.61592034e-01, -6.86822229e-02, ...,\n",
       "         -4.02687978e-03, -1.00544957e-04, -9.00264144e-04],\n",
       "        [ 5.25518159e-01, -2.31947959e-01, -9.24935491e-02, ...,\n",
       "         -5.13212270e-04, -6.27524678e-03, -1.25066628e-03],\n",
       "        ...,\n",
       "        [ 4.79450780e-01, -1.74071411e-01, -5.97311582e-02, ...,\n",
       "         -1.03039598e-03,  2.24265194e-03,  1.65576398e-03],\n",
       "        [ 5.00892902e-01, -2.01890554e-01, -5.01390147e-02, ...,\n",
       "         -1.89572607e-03, -4.09183157e-03, -5.07809655e-04],\n",
       "        [ 5.10684447e-01, -1.69706480e-01, -6.58357976e-02, ...,\n",
       "         -1.22208986e-03, -3.88642494e-03, -9.96366263e-04]]),\n",
       " array([0.00297928, 0.99128825, 0.04585721, 0.00992645, 0.00830653,\n",
       "        0.00626805, 0.00399821, 0.00333118, 0.00546643, 0.11797512,\n",
       "        0.01856874, 0.00733199, 0.0256001 ])]"
      ]
     },
     "execution_count": 120,
     "metadata": {},
     "output_type": "execute_result"
    }
   ],
   "source": [
    "z[0]"
   ]
  },
  {
   "cell_type": "code",
   "execution_count": null,
   "id": "e6bb53bf",
   "metadata": {},
   "outputs": [],
   "source": []
  }
 ],
 "metadata": {
  "kernelspec": {
   "display_name": "Python 3 (ipykernel)",
   "language": "python",
   "name": "python3"
  },
  "language_info": {
   "codemirror_mode": {
    "name": "ipython",
    "version": 3
   },
   "file_extension": ".py",
   "mimetype": "text/x-python",
   "name": "python",
   "nbconvert_exporter": "python",
   "pygments_lexer": "ipython3",
   "version": "3.9.19"
  }
 },
 "nbformat": 4,
 "nbformat_minor": 5
}
