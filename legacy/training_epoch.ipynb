{
 "cells": [
  {
   "cell_type": "code",
   "execution_count": 1,
   "metadata": {},
   "outputs": [],
   "source": [
    "import os, sys, torch\n",
    "\n",
    "from utils.file_utils import *\n",
    "from model import Net\n",
    "\n",
    "import utils.preprocessing_utils as preproc\n",
    "from utils.data_utils import IDMT"
   ]
  },
  {
   "cell_type": "code",
   "execution_count": 38,
   "metadata": {},
   "outputs": [],
   "source": []
  },
  {
   "cell_type": "code",
   "execution_count": 2,
   "metadata": {},
   "outputs": [
    {
     "name": "stdout",
     "output_type": "stream",
     "text": [
      "[Model]: Model initialized\n",
      "[Trainer]: Trainer initialized\n",
      "[IDMT]: IDMT Dataset Handler initialized\n",
      "[IDMT]: Paths Acquired\n"
     ]
    }
   ],
   "source": [
    "net = Net(log=True)\n",
    "trainer = Trainer(net,log=True)\n",
    "\n",
    "idmt = IDMT(log=True,compression_factor=None)\n",
    "paths = idmt.getFilePaths()\n",
    "\n",
    "# construct training dataset\n",
    "trainloader = []\n",
    "for path in paths[:5]:\n",
    "    audio = idmt.extractAudio(path)\n",
    "    fft,compressed_fft = preproc.process(audio)\n",
    "\n",
    "    label_embedding = idmt.extractLabelEmbedding(path)\n",
    "\n",
    "    trainloader.append((compressed_fft,label_embedding))\n",
    "\n",
    "# print(trainloader)\n",
    "\n"
   ]
  },
  {
   "cell_type": "code",
   "execution_count": null,
   "metadata": {},
   "outputs": [],
   "source": [
    "losses = trainer.training_epoch(epochs=1,trainloader=trainloader)"
   ]
  },
  {
   "cell_type": "code",
   "execution_count": 33,
   "metadata": {},
   "outputs": [
    {
     "name": "stdout",
     "output_type": "stream",
     "text": [
      "[Model]: Model initialized\n"
     ]
    },
    {
     "data": {
      "text/plain": [
       "tensor([ 6.3567, -3.1649,  5.1908, -0.4889], grad_fn=<ViewBackward0>)"
      ]
     },
     "execution_count": 33,
     "metadata": {},
     "output_type": "execute_result"
    }
   ],
   "source": [
    "net = Net(log=True)\n",
    "\n",
    "inputs,labels = trainloader[0]\n",
    "# torch.tensor(inputs,dtype=torch.float32).shape\n",
    "outputs = net(torch.tensor(inputs,dtype=torch.float32))\n",
    "outputs"
   ]
  },
  {
   "cell_type": "code",
   "execution_count": 25,
   "metadata": {},
   "outputs": [
    {
     "name": "stdout",
     "output_type": "stream",
     "text": [
      "[Model]: Model initialized\n",
      "[Trainer]: Trainer initialized\n",
      "3.453507661819458\n"
     ]
    }
   ],
   "source": [
    "net = Net(log=True)\n",
    "trainer = Trainer(net,log=True)\n",
    "\n",
    "inputs,labels = trainloader[0]\n",
    "loss = trainer.training_loop(inputs,labels)\n",
    "print(loss)"
   ]
  },
  {
   "cell_type": "code",
   "execution_count": 24,
   "metadata": {},
   "outputs": [
    {
     "data": {
      "text/plain": [
       "(480,)"
      ]
     },
     "execution_count": 24,
     "metadata": {},
     "output_type": "execute_result"
    }
   ],
   "source": [
    "trainloader[0][0].shape"
   ]
  },
  {
   "cell_type": "code",
   "execution_count": 47,
   "metadata": {},
   "outputs": [],
   "source": [
    "from utils.training_utils import Trainer"
   ]
  },
  {
   "cell_type": "code",
   "execution_count": 49,
   "metadata": {},
   "outputs": [
    {
     "name": "stdout",
     "output_type": "stream",
     "text": [
      "[Model]: Model initialized\n",
      "[Trainer]: Trainer initialized\n",
      "9.665013313293457\n",
      "-0.0\n",
      "-0.0\n",
      "-0.0\n",
      "-0.0\n"
     ]
    }
   ],
   "source": [
    "net = Net(log=True)\n",
    "trainer = Trainer(net,log=True)\n",
    "\n",
    "# net.parameters\n",
    "\n",
    "for i in range(5):\n",
    "    inputs,labels = trainloader[i]\n",
    "    loss = trainer.training_loop(inputs,labels)\n",
    "    # outputs = net(torch.tensor(inputs,dtype=torch.float32))\n",
    "    # outputs = trainer.model(torch.Tensor(inputs))\n",
    "    print(loss)"
   ]
  },
  {
   "cell_type": "code",
   "execution_count": 70,
   "metadata": {},
   "outputs": [],
   "source": [
    "def summarize(values):\n",
    "    summary = {\n",
    "        'mean': sum(values) / len(values),\n",
    "        'min': min(values),\n",
    "        'max': max(values),\n",
    "        # 'std_dev': (sum((x - (sum(values) / len(values))) ** 2 for x in values) / len(values)) ** 0.5\n",
    "    }\n",
    "    return summary"
   ]
  },
  {
   "cell_type": "code",
   "execution_count": 78,
   "metadata": {},
   "outputs": [
    {
     "data": {
      "text/plain": [
       "{'mean': 0.0005667485246741914,\n",
       " 'min': -0.1688186,\n",
       " 'max': 0.206325,\n",
       " 'std_dev': 0.03382391024887125}"
      ]
     },
     "execution_count": 78,
     "metadata": {},
     "output_type": "execute_result"
    }
   ],
   "source": [
    "def summarize(values):\n",
    "    summary = {\n",
    "        'mean': sum(values) / len(values),\n",
    "        'min': min(values),\n",
    "        'max': max(values),\n",
    "        'std_dev': (sum((x - (sum(values) / len(values))) ** 2 for x in values) / len(values)) ** 0.5\n",
    "    }\n",
    "    return summary\n",
    "\n",
    "a = [(name, param) for name, param in net.named_parameters()]\n",
    "b = a[0][1].data.numpy().reshape(-1)\n",
    "\n",
    "summarize(b)\n"
   ]
  },
  {
   "cell_type": "code",
   "execution_count": 79,
   "metadata": {},
   "outputs": [
    {
     "data": {
      "text/plain": [
       "0.001"
      ]
     },
     "execution_count": 79,
     "metadata": {},
     "output_type": "execute_result"
    }
   ],
   "source": [
    "10e-4"
   ]
  },
  {
   "cell_type": "code",
   "execution_count": 7,
   "metadata": {},
   "outputs": [
    {
     "name": "stdout",
     "output_type": "stream",
     "text": [
      "[Trainer]: Epoch 0\n"
     ]
    },
    {
     "data": {
      "text/plain": [
       "[-0.0, -0.0, -0.0, -0.0, -0.0]"
      ]
     },
     "execution_count": 7,
     "metadata": {},
     "output_type": "execute_result"
    }
   ],
   "source": [
    "losses = trainer.training_epoch(epochs=1,trainloader=trainloader)\n",
    "losses"
   ]
  }
 ],
 "metadata": {
  "kernelspec": {
   "display_name": "Python 3",
   "language": "python",
   "name": "python3"
  },
  "language_info": {
   "codemirror_mode": {
    "name": "ipython",
    "version": 3
   },
   "file_extension": ".py",
   "mimetype": "text/x-python",
   "name": "python",
   "nbconvert_exporter": "python",
   "pygments_lexer": "ipython3",
   "version": "3.10.11"
  }
 },
 "nbformat": 4,
 "nbformat_minor": 2
}
