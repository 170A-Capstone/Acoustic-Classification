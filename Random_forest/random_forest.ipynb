{
 "cells": [
  {
   "cell_type": "code",
   "execution_count": 234,
   "metadata": {},
   "outputs": [],
   "source": [
    "import pandas as pd\n",
    "import numpy as np\n",
    "from sklearn.model_selection import train_test_split\n",
    "from sklearn.ensemble import RandomForestClassifier\n",
    "from sklearn.metrics import accuracy_score\n",
    "from sklearn.metrics import confusion_matrix\n",
    "import matplotlib as plt\n",
    "import matplotlib.pyplot as plt\n",
    "import seaborn as sns\n",
    "from sklearn.decomposition import PCA\n",
    "\n",
    "from sklearn.svm import SVC\n",
    "from sklearn.neighbors import KNeighborsClassifier"
   ]
  },
  {
   "cell_type": "code",
   "execution_count": 238,
   "metadata": {},
   "outputs": [],
   "source": [
    "df1 = pd.read_csv(\"/Users/apple/Acoustic-Classification/Random_forest/IDMT_features.csv\", usecols=['class'], index_col=None)\n",
    "df2 = pd.read_csv(\"/Users/apple/Acoustic-Classification/Random_forest/IDMT_librosa_features.csv\", usecols=['frequency_coefficients', 'average_zero_cross_rate'], index_col=None)\n",
    "df3 = pd.read_csv(\"/Users/apple/Acoustic-Classification/Random_forest/IDMT_statistical_features.csv\", usecols=['mode_var', 's', 'g', 'variance', 'gstd_var', 'ent'], index_col=None)\n",
    "\n",
    "df1_numpy = df1.to_numpy()\n",
    "df2_numpy = df2.to_numpy()\n",
    "df3_numpy = df3.to_numpy()\n",
    "\n",
    "IDMT_C_data = list()\n",
    "IDMT_M_data = list()\n",
    "IDMT_T_data = list()\n",
    "IDMT_Other_data = list()"
   ]
  },
  {
   "cell_type": "code",
   "execution_count": 239,
   "metadata": {},
   "outputs": [
    {
     "name": "stdout",
     "output_type": "stream",
     "text": [
      "(3902, 9)\n",
      "(251, 9)\n",
      "(511, 9)\n",
      "(53, 9)\n"
     ]
    }
   ],
   "source": [
    "for i in range(df3_numpy.shape[0]):\n",
    "    if df1_numpy[i][0] == \"C\":\n",
    "        IDMT_C_data.append(df2_numpy[i].tolist() + df3_numpy[i].tolist() + [0])\n",
    "    elif df1_numpy[i][0] == \"M\":\n",
    "        IDMT_M_data.append(df2_numpy[i].tolist() + df3_numpy[i].tolist() + [1])\n",
    "    elif df1_numpy[i][0] == \"T\":\n",
    "        IDMT_T_data.append(df2_numpy[i].tolist() + df3_numpy[i].tolist() + [2])\n",
    "    else:\n",
    "        IDMT_Other_data.append(df2_numpy[i].tolist() + df3_numpy[i].tolist() + [3])\n",
    "IDMT_C_data = np.array(IDMT_C_data)\n",
    "IDMT_M_data = np.array(IDMT_M_data)\n",
    "IDMT_T_data = np.array(IDMT_T_data)\n",
    "IDMT_Other_data = np.array(IDMT_Other_data)\n",
    "print(np.array(IDMT_C_data).shape)\n",
    "print(np.array(IDMT_M_data).shape)\n",
    "print(np.array(IDMT_T_data).shape)\n",
    "print(np.array(IDMT_Other_data).shape)"
   ]
  },
  {
   "cell_type": "code",
   "execution_count": 240,
   "metadata": {},
   "outputs": [],
   "source": [
    "# 归一化处理\n",
    "IDMT_C_data_X = IDMT_C_data[:,:8]\n",
    "IDMT_M_data_X = IDMT_M_data[:,:8]\n",
    "IDMT_T_data_X = IDMT_T_data[:,:8]\n",
    "IDMT_Other_data_X = IDMT_Other_data[:,:8]\n",
    "IDMT_C_data_Y = IDMT_C_data[:,8:9]\n",
    "IDMT_M_data_Y = IDMT_M_data[:,8:9]\n",
    "IDMT_T_data_Y = IDMT_T_data[:,8:9]\n",
    "IDMT_Other_data_Y = IDMT_Other_data[:,8:9]\n",
    "\n",
    "# 对X数据的每一列进行归一化，归一化之后就变成了 0 到 1 之间\n",
    "IDMT_C_data_X = IDMT_C_data_X / IDMT_C_data_X.max(axis=0)\n",
    "IDMT_M_data_X = IDMT_M_data_X / IDMT_M_data_X.max(axis=0)\n",
    "IDMT_T_data_X = IDMT_T_data_X / IDMT_T_data_X.max(axis=0)\n",
    "IDMT_Other_data_X = IDMT_Other_data_X / IDMT_Other_data_X.max(axis=0)"
   ]
  },
  {
   "cell_type": "code",
   "execution_count": 241,
   "metadata": {},
   "outputs": [],
   "source": [
    "df1 = pd.read_csv(\"/Users/apple/Acoustic-Classification/Random_forest/MVD_features.csv\", usecols=['class'], index_col=None)\n",
    "df2 = pd.read_csv(\"/Users/apple/Acoustic-Classification/Random_forest/MVD_librosa_features.csv\", usecols=['frequency_coefficients', 'average_zero_cross_rate'], index_col=None)\n",
    "df3 = pd.read_csv(\"/Users/apple/Acoustic-Classification/Random_forest/MVD_statistical_features.csv\", usecols=['mode_var', 's', 'g', 'variance', 'gstd_var', 'ent'], index_col=None)\n",
    "\n",
    "df1_numpy = df1.to_numpy()\n",
    "df2_numpy = df2.to_numpy()\n",
    "df3_numpy = df3.to_numpy()\n",
    "\n",
    "MVD_C_data = list()\n",
    "MVD_M_data = list()\n",
    "MVD_T_data = list()\n",
    "MVD_Other_data = list()"
   ]
  },
  {
   "cell_type": "code",
   "execution_count": 242,
   "metadata": {},
   "outputs": [
    {
     "name": "stdout",
     "output_type": "stream",
     "text": [
      "(1005, 9)\n",
      "(1122, 9)\n",
      "(1077, 9)\n",
      "(1025, 9)\n"
     ]
    }
   ],
   "source": [
    "for i in range(df3_numpy.shape[0]):\n",
    "    if df1_numpy[i][0] == \"C\":\n",
    "        MVD_C_data.append(df2_numpy[i].tolist() + df3_numpy[i].tolist() + [0])\n",
    "    elif df1_numpy[i][0] == \"M\":\n",
    "        MVD_M_data.append(df2_numpy[i].tolist() + df3_numpy[i].tolist() + [1])\n",
    "    elif df1_numpy[i][0] == \"T\":\n",
    "        MVD_T_data.append(df2_numpy[i].tolist() + df3_numpy[i].tolist() + [2])\n",
    "    else:\n",
    "        MVD_Other_data.append(df2_numpy[i].tolist() + df3_numpy[i].tolist() + [3])\n",
    "\n",
    "MVD_C_data = np.array(MVD_C_data)\n",
    "MVD_M_data = np.array(MVD_M_data)\n",
    "MVD_T_data = np.array(MVD_T_data)\n",
    "MVD_Other_data = np.array(MVD_Other_data)\n",
    "print(np.array(MVD_C_data).shape)\n",
    "print(np.array(MVD_M_data).shape)\n",
    "print(np.array(MVD_T_data).shape)\n",
    "print(np.array(MVD_Other_data).shape)"
   ]
  },
  {
   "cell_type": "code",
   "execution_count": 243,
   "metadata": {},
   "outputs": [],
   "source": [
    "# 归一化处理\n",
    "MVD_C_data_X = MVD_C_data[:,:8]\n",
    "MVD_M_data_X = MVD_M_data[:,:8]\n",
    "MVD_T_data_X = MVD_T_data[:,:8]\n",
    "MVD_Other_data_X = MVD_Other_data[:,:8]\n",
    "MVD_C_data_Y = MVD_C_data[:,8:9]\n",
    "MVD_M_data_Y = MVD_M_data[:,8:9]\n",
    "MVD_T_data_Y = MVD_T_data[:,8:9]\n",
    "MVD_Other_data_Y = MVD_Other_data[:,8:9]\n",
    "\n",
    "# 对X数据的每一列进行归一化，归一化之后就变成了 0 到 1 之间\n",
    "MVD_C_data_X = MVD_C_data_X / MVD_C_data_X.max(axis=0)\n",
    "MVD_M_data_X = MVD_M_data_X / MVD_M_data_X.max(axis=0)\n",
    "MVD_T_data_X = MVD_T_data_X / MVD_T_data_X.max(axis=0)\n",
    "MVD_Other_data_X = MVD_Other_data_X / MVD_Other_data_X.max(axis=0)"
   ]
  },
  {
   "cell_type": "code",
   "execution_count": 244,
   "metadata": {},
   "outputs": [
    {
     "name": "stdout",
     "output_type": "stream",
     "text": [
      "(4907, 9)\n",
      "(1373, 9)\n",
      "(1588, 9)\n",
      "(1078, 9)\n",
      "(500, 9)\n",
      "(500, 9)\n",
      "(500, 9)\n",
      "(500, 9)\n"
     ]
    }
   ],
   "source": [
    "IDMT_C_indexs = np.random.choice(IDMT_C_data_X.shape[0], size=100, replace=False)\n",
    "MVD_C_indexs = np.random.choice(MVD_C_data_X.shape[0], size=100, replace=False)\n",
    "C_data = np.concatenate((np.concatenate((IDMT_C_data_X[IDMT_C_indexs], IDMT_C_data_Y[IDMT_C_indexs]), axis=1), np.concatenate((MVD_C_data_X[MVD_C_indexs], MVD_C_data_Y[MVD_C_indexs]), axis=1)), axis=0)\n",
    "IDMT_M_indexs = np.random.choice(IDMT_M_data_X.shape[0], size=100, replace=False)\n",
    "MVD_M_indexs = np.random.choice(MVD_M_data_X.shape[0], size=100, replace=False)\n",
    "M_data = np.concatenate((np.concatenate((IDMT_M_data_X[IDMT_M_indexs], IDMT_M_data_Y[IDMT_M_indexs]), axis=1), np.concatenate((MVD_M_data_X[MVD_M_indexs], MVD_M_data_Y[MVD_M_indexs]), axis=1)), axis=0)\n",
    "IDMT_T_indexs = np.random.choice(IDMT_T_data_X.shape[0], size=100, replace=False)\n",
    "MVD_T_indexs = np.random.choice(MVD_T_data_X.shape[0], size=100, replace=False)\n",
    "T_data = np.concatenate((np.concatenate((IDMT_T_data_X[IDMT_T_indexs], IDMT_T_data_Y[IDMT_T_indexs]), axis=1), np.concatenate((MVD_T_data_X[MVD_T_indexs], MVD_T_data_Y[MVD_T_indexs]), axis=1)), axis=0)\n",
    "MVD_Other_indexs = np.random.choice(MVD_Other_data_X.shape[0], size=147, replace=False)\n",
    "Other_data = np.concatenate((np.concatenate((IDMT_Other_data_X, IDMT_Other_data_Y), axis=1), np.concatenate((MVD_Other_data_X[MVD_Other_indexs], MVD_Other_data_Y[MVD_Other_indexs]), axis=1)), axis=0)\n",
    "\n",
    "C_data_X = np.concatenate((np.concatenate((IDMT_C_data_X, IDMT_C_data_Y), axis=1), np.concatenate((MVD_C_data_X, MVD_C_data_Y), axis=1)), axis=0)\n",
    "C_data = np.random.choice(C_data_X.shape[0], size=500, replace=False)\n",
    "C_data = C_data_X[C_data]\n",
    "\n",
    "M_data_X = np.concatenate((np.concatenate((IDMT_M_data_X, IDMT_M_data_Y), axis=1), np.concatenate((MVD_M_data_X, MVD_M_data_Y), axis=1)), axis=0)\n",
    "M_data = np.random.choice(M_data_X.shape[0], size=500, replace=False)\n",
    "M_data = M_data_X[M_data]\n",
    "\n",
    "T_data_X = np.concatenate((np.concatenate((IDMT_T_data_X, IDMT_T_data_Y), axis=1), np.concatenate((MVD_T_data_X, MVD_T_data_Y), axis=1)), axis=0)\n",
    "T_data = np.random.choice(T_data_X.shape[0], size=500, replace=False)\n",
    "T_data = T_data_X[T_data]\n",
    "\n",
    "Other_data_X = np.concatenate((np.concatenate((IDMT_Other_data_X, IDMT_Other_data_Y), axis=1), np.concatenate((MVD_Other_data_X, MVD_Other_data_Y), axis=1)), axis=0)\n",
    "Other_data = np.random.choice(Other_data_X.shape[0], size=500, replace=False)\n",
    "Other_data = Other_data_X[Other_data]\n",
    "\n",
    "print(C_data_X.shape)\n",
    "print(M_data_X.shape)\n",
    "print(T_data_X.shape)\n",
    "print(Other_data_X.shape)\n",
    "\n",
    "print(C_data.shape)\n",
    "print(M_data.shape)\n",
    "print(T_data.shape)\n",
    "print(Other_data.shape)"
   ]
  },
  {
   "cell_type": "code",
   "execution_count": 245,
   "metadata": {},
   "outputs": [
    {
     "name": "stdout",
     "output_type": "stream",
     "text": [
      "Train accuracy: 1.00\n"
     ]
    },
    {
     "name": "stderr",
     "output_type": "stream",
     "text": [
      "/Users/apple/anaconda3/lib/python3.11/site-packages/sklearn/base.py:1151: DataConversionWarning: A column-vector y was passed when a 1d array was expected. Please change the shape of y to (n_samples,), for example using ravel().\n",
      "  return fit_method(estimator, *args, **kwargs)\n"
     ]
    }
   ],
   "source": [
    "all_data = np.concatenate((C_data, M_data, T_data, Other_data), axis=0)\n",
    "all_data_X = all_data[:,:8]\n",
    "all_data_Y = all_data[:,8:9]\n",
    "# 划分数据集，测试集占总数据的25%，随机状态设置为42以确保结果可复现\n",
    "X_train, X_test, y_train, y_test = train_test_split(all_data_X, all_data_Y, test_size=0.2, random_state=42)\n",
    "\n",
    "rf = RandomForestClassifier(n_estimators=30, criterion='entropy', max_depth=13, random_state=43)\n",
    "\n",
    "# 训练模型\n",
    "rf.fit(X_train, y_train)\n",
    "\n",
    "# 预测训练集\n",
    "y_pred = rf.predict(X_train)\n",
    "accuracy = accuracy_score(y_train, y_pred)\n",
    "print(f\"Train accuracy: {accuracy:.2f}\")"
   ]
  },
  {
   "cell_type": "code",
   "execution_count": 246,
   "metadata": {},
   "outputs": [
    {
     "name": "stdout",
     "output_type": "stream",
     "text": [
      "[[396   0   0   0]\n",
      " [  0 404   0   1]\n",
      " [  0   0 412   0]\n",
      " [  0   0   0 387]]\n",
      "[[1.         0.         0.         0.        ]\n",
      " [0.         0.99753086 0.         0.00246914]\n",
      " [0.         0.         1.         0.        ]\n",
      " [0.         0.         0.         1.        ]]\n",
      "Test accuracy: 0.89\n",
      "[[ 92   6   6   0]\n",
      " [  1  87   5   2]\n",
      " [  4   9  75   0]\n",
      " [  2   9   1 101]]\n",
      "[[0.88461538 0.05769231 0.05769231 0.        ]\n",
      " [0.01052632 0.91578947 0.05263158 0.02105263]\n",
      " [0.04545455 0.10227273 0.85227273 0.        ]\n",
      " [0.01769912 0.07964602 0.00884956 0.89380531]]\n"
     ]
    }
   ],
   "source": [
    "# 使用confusion_matrix函数生成混淆矩阵\n",
    "cm = confusion_matrix(y_train, y_pred)\n",
    "# 打印混淆矩阵\n",
    "print(cm)\n",
    "cm_normalized = cm.astype('float') / cm.sum(axis=1)[:, np.newaxis]\n",
    "print(cm_normalized)\n",
    "\n",
    "# 预测测试集\n",
    "y_pred = rf.predict(X_test)\n",
    "accuracy = accuracy_score(y_test, y_pred)\n",
    "print(f\"Test accuracy: {accuracy:.2f}\")\n",
    "# 使用confusion_matrix函数生成混淆矩阵\n",
    "cm = confusion_matrix(y_test, y_pred)\n",
    "# 打印混淆矩阵\n",
    "print(cm)\n",
    "cm_normalized = cm.astype('float') / cm.sum(axis=1)[:, np.newaxis]\n",
    "print(cm_normalized)"
   ]
  },
  {
   "cell_type": "code",
   "execution_count": 247,
   "metadata": {},
   "outputs": [
    {
     "data": {
      "text/plain": [
       "(4907, 9)"
      ]
     },
     "execution_count": 247,
     "metadata": {},
     "output_type": "execute_result"
    }
   ],
   "source": [
    "C_data_X.shape"
   ]
  },
  {
   "cell_type": "code",
   "execution_count": 248,
   "metadata": {},
   "outputs": [],
   "source": [
    "knn = KNeighborsClassifier(n_neighbors=10, metric='manhattan', weights='distance')\n",
    "svc = SVC(kernel='poly', C=100, degree=3, gamma='scale', probability=True)"
   ]
  },
  {
   "cell_type": "code",
   "execution_count": 251,
   "metadata": {},
   "outputs": [
    {
     "name": "stdout",
     "output_type": "stream",
     "text": [
      "Train accuracy: 1.00\n",
      "[[396   0   0   0]\n",
      " [  0 405   0   0]\n",
      " [  0   0 412   0]\n",
      " [  0   0   0 387]]\n",
      "[[1. 0. 0. 0.]\n",
      " [0. 1. 0. 0.]\n",
      " [0. 0. 1. 0.]\n",
      " [0. 0. 0. 1.]]\n",
      "Test accuracy: 0.83\n",
      "[[91  6  6  1]\n",
      " [ 3 77 14  1]\n",
      " [18  6 64  0]\n",
      " [ 2 10  2 99]]\n",
      "[[0.875      0.05769231 0.05769231 0.00961538]\n",
      " [0.03157895 0.81052632 0.14736842 0.01052632]\n",
      " [0.20454545 0.06818182 0.72727273 0.        ]\n",
      " [0.01769912 0.08849558 0.01769912 0.87610619]]\n"
     ]
    },
    {
     "name": "stderr",
     "output_type": "stream",
     "text": [
      "/Users/apple/anaconda3/lib/python3.11/site-packages/sklearn/neighbors/_classification.py:228: DataConversionWarning: A column-vector y was passed when a 1d array was expected. Please change the shape of y to (n_samples,), for example using ravel().\n",
      "  return self._fit(X, y)\n"
     ]
    }
   ],
   "source": [
    "knn.fit(X_train, y_train)\n",
    "\n",
    "# 预测训练集\n",
    "y_pred = knn.predict(X_train)\n",
    "accuracy = accuracy_score(y_train, y_pred)\n",
    "print(f\"Train accuracy: {accuracy:.2f}\")\n",
    "# 使用confusion_matrix函数生成混淆矩阵\n",
    "cm = confusion_matrix(y_train, y_pred)\n",
    "# 打印混淆矩阵\n",
    "print(cm)\n",
    "cm_normalized = cm.astype('float') / cm.sum(axis=1)[:, np.newaxis]\n",
    "print(cm_normalized)\n",
    "\n",
    "# 预测测试集\n",
    "y_pred = knn.predict(X_test)\n",
    "accuracy = accuracy_score(y_test, y_pred)\n",
    "print(f\"Test accuracy: {accuracy:.2f}\")\n",
    "# 使用confusion_matrix函数生成混淆矩阵\n",
    "cm = confusion_matrix(y_test, y_pred)\n",
    "# 打印混淆矩阵\n",
    "print(cm)\n",
    "cm_normalized = cm.astype('float') / cm.sum(axis=1)[:, np.newaxis]\n",
    "print(cm_normalized)"
   ]
  },
  {
   "cell_type": "code",
   "execution_count": 252,
   "metadata": {},
   "outputs": [
    {
     "name": "stdout",
     "output_type": "stream",
     "text": [
      "Train accuracy: 0.35\n",
      "[[186   0   0 210]\n",
      " [ 42   0   0 363]\n",
      " [ 80   0   0 332]\n",
      " [ 15   0   0 372]]\n",
      "[[0.46969697 0.         0.         0.53030303]\n",
      " [0.1037037  0.         0.         0.8962963 ]\n",
      " [0.19417476 0.         0.         0.80582524]\n",
      " [0.03875969 0.         0.         0.96124031]]\n",
      "Test accuracy: 0.41\n",
      "[[ 53   0   0  51]\n",
      " [ 12   0   0  83]\n",
      " [ 23   0   0  65]\n",
      " [  4   0   0 109]]\n",
      "[[0.50961538 0.         0.         0.49038462]\n",
      " [0.12631579 0.         0.         0.87368421]\n",
      " [0.26136364 0.         0.         0.73863636]\n",
      " [0.03539823 0.         0.         0.96460177]]\n"
     ]
    },
    {
     "name": "stderr",
     "output_type": "stream",
     "text": [
      "/Users/apple/anaconda3/lib/python3.11/site-packages/sklearn/utils/validation.py:1184: DataConversionWarning: A column-vector y was passed when a 1d array was expected. Please change the shape of y to (n_samples, ), for example using ravel().\n",
      "  y = column_or_1d(y, warn=True)\n"
     ]
    }
   ],
   "source": [
    "svc.fit(X_train, y_train)\n",
    "\n",
    "# 预测训练集\n",
    "y_pred = svc.predict(X_train)\n",
    "accuracy = accuracy_score(y_train, y_pred)\n",
    "print(f\"Train accuracy: {accuracy:.2f}\")\n",
    "# 使用confusion_matrix函数生成混淆矩阵\n",
    "cm = confusion_matrix(y_train, y_pred)\n",
    "# 打印混淆矩阵\n",
    "print(cm)\n",
    "cm_normalized = cm.astype('float') / cm.sum(axis=1)[:, np.newaxis]\n",
    "print(cm_normalized)\n",
    "\n",
    "# 预测测试集\n",
    "y_pred = svc.predict(X_test)\n",
    "accuracy = accuracy_score(y_test, y_pred)\n",
    "print(f\"Test accuracy: {accuracy:.2f}\")\n",
    "# 使用confusion_matrix函数生成混淆矩阵\n",
    "cm = confusion_matrix(y_test, y_pred)\n",
    "# 打印混淆矩阵\n",
    "print(cm)\n",
    "cm_normalized = cm.astype('float') / cm.sum(axis=1)[:, np.newaxis]\n",
    "print(cm_normalized)"
   ]
  },
  {
   "cell_type": "markdown",
   "metadata": {},
   "source": []
  },
  {
   "cell_type": "markdown",
   "metadata": {},
   "source": []
  },
  {
   "cell_type": "markdown",
   "metadata": {},
   "source": []
  },
  {
   "cell_type": "code",
   "execution_count": 253,
   "metadata": {},
   "outputs": [],
   "source": [
    "df1 = pd.read_csv(\"/Users/apple/Acoustic-Classification/Random_forest/IDMT_features.csv\", usecols=['class'], index_col=None)\n",
    "df2 = pd.read_csv(\"/Users/apple/Acoustic-Classification/Random_forest/IDMT_librosa_features.csv\", usecols=['frequency_coefficients', 'short_time_energy', 'average_zero_cross_rate'], index_col=None)\n",
    "df3 = pd.read_csv(\"/Users/apple/Acoustic-Classification/Random_forest/IDMT_statistical_features.csv\", usecols=[\"mode_var\",\"k\",\"s\",\"mean\",\"i\",\"g\",\"h\",\"dev\",\"var\",\"variance\",\"std\",\"gstd_var\",\"ent\"], index_col=None)\n",
    "\n",
    "df1_numpy = df1.to_numpy()\n",
    "df2_numpy = df2.to_numpy()\n",
    "df3_numpy = df3.to_numpy()\n",
    "\n",
    "IDMT_C_data = list()\n",
    "IDMT_M_data = list()\n",
    "IDMT_T_data = list()\n",
    "IDMT_Other_data = list()"
   ]
  },
  {
   "cell_type": "code",
   "execution_count": 254,
   "metadata": {},
   "outputs": [
    {
     "name": "stdout",
     "output_type": "stream",
     "text": [
      "(3902, 17)\n",
      "(251, 17)\n",
      "(511, 17)\n",
      "(53, 17)\n"
     ]
    }
   ],
   "source": [
    "for i in range(df3_numpy.shape[0]):\n",
    "    if df1_numpy[i][0] == \"C\":\n",
    "        IDMT_C_data.append(df2_numpy[i].tolist() + df3_numpy[i].tolist() + [0])\n",
    "    elif df1_numpy[i][0] == \"M\":\n",
    "        IDMT_M_data.append(df2_numpy[i].tolist() + df3_numpy[i].tolist() + [1])\n",
    "    elif df1_numpy[i][0] == \"T\":\n",
    "        IDMT_T_data.append(df2_numpy[i].tolist() + df3_numpy[i].tolist() + [2])\n",
    "    else:\n",
    "        IDMT_Other_data.append(df2_numpy[i].tolist() + df3_numpy[i].tolist() + [3])\n",
    "IDMT_C_data = np.array(IDMT_C_data)\n",
    "IDMT_M_data = np.array(IDMT_M_data)\n",
    "IDMT_T_data = np.array(IDMT_T_data)\n",
    "IDMT_Other_data = np.array(IDMT_Other_data)\n",
    "print(np.array(IDMT_C_data).shape)\n",
    "print(np.array(IDMT_M_data).shape)\n",
    "print(np.array(IDMT_T_data).shape)\n",
    "print(np.array(IDMT_Other_data).shape)"
   ]
  },
  {
   "cell_type": "code",
   "execution_count": 255,
   "metadata": {},
   "outputs": [],
   "source": [
    "df1 = pd.read_csv(\"/Users/apple/Acoustic-Classification/Random_forest/MVD_features.csv\", usecols=['class'], index_col=None)\n",
    "df2 = pd.read_csv(\"/Users/apple/Acoustic-Classification/Random_forest/MVD_librosa_features.csv\", usecols=['frequency_coefficients', 'short_time_energy', 'average_zero_cross_rate'], index_col=None)\n",
    "df3 = pd.read_csv(\"/Users/apple/Acoustic-Classification/Random_forest/MVD_statistical_features.csv\", usecols=[\"mode_var\",\"k\",\"s\",\"mean\",\"i\",\"g\",\"h\",\"dev\",\"var\",\"variance\",\"std\",\"gstd_var\",\"ent\"], index_col=None)\n",
    "\n",
    "df1_numpy = df1.to_numpy()\n",
    "df2_numpy = df2.to_numpy()\n",
    "df3_numpy = df3.to_numpy()\n",
    "\n",
    "MVD_C_data = list()\n",
    "MVD_M_data = list()\n",
    "MVD_T_data = list()\n",
    "MVD_Other_data = list()"
   ]
  },
  {
   "cell_type": "code",
   "execution_count": 256,
   "metadata": {},
   "outputs": [
    {
     "name": "stdout",
     "output_type": "stream",
     "text": [
      "(1005, 17)\n",
      "(1122, 17)\n",
      "(1077, 17)\n",
      "(1025, 17)\n"
     ]
    }
   ],
   "source": [
    "for i in range(df3_numpy.shape[0]):\n",
    "    if df1_numpy[i][0] == \"C\":\n",
    "        MVD_C_data.append(df2_numpy[i].tolist() + df3_numpy[i].tolist() + [0])\n",
    "    elif df1_numpy[i][0] == \"M\":\n",
    "        MVD_M_data.append(df2_numpy[i].tolist() + df3_numpy[i].tolist() + [1])\n",
    "    elif df1_numpy[i][0] == \"T\":\n",
    "        MVD_T_data.append(df2_numpy[i].tolist() + df3_numpy[i].tolist() + [2])\n",
    "    else:\n",
    "        MVD_Other_data.append(df2_numpy[i].tolist() + df3_numpy[i].tolist() + [3])\n",
    "\n",
    "MVD_C_data = np.array(MVD_C_data)\n",
    "MVD_M_data = np.array(MVD_M_data)\n",
    "MVD_T_data = np.array(MVD_T_data)\n",
    "MVD_Other_data = np.array(MVD_Other_data)\n",
    "print(np.array(MVD_C_data).shape)\n",
    "print(np.array(MVD_M_data).shape)\n",
    "print(np.array(MVD_T_data).shape)\n",
    "print(np.array(MVD_Other_data).shape)"
   ]
  },
  {
   "cell_type": "code",
   "execution_count": 257,
   "metadata": {},
   "outputs": [
    {
     "name": "stdout",
     "output_type": "stream",
     "text": [
      "(4907, 17)\n",
      "(1373, 17)\n",
      "(1588, 17)\n",
      "(1078, 17)\n",
      "(500, 17)\n",
      "(500, 17)\n",
      "(500, 17)\n",
      "(500, 17)\n"
     ]
    }
   ],
   "source": [
    "C_data_X = np.concatenate((IDMT_C_data, MVD_C_data), axis=0)\n",
    "C_data = np.random.choice(C_data_X.shape[0], size=500, replace=False)\n",
    "C_data = C_data_X[C_data]\n",
    "\n",
    "M_data_X = np.concatenate((IDMT_M_data, MVD_M_data), axis=0)\n",
    "M_data = np.random.choice(M_data_X.shape[0], size=500, replace=False)\n",
    "M_data = M_data_X[M_data]\n",
    "\n",
    "T_data_X = np.concatenate((IDMT_T_data, MVD_T_data), axis=0)\n",
    "T_data = np.random.choice(T_data_X.shape[0], size=500, replace=False)\n",
    "T_data = T_data_X[T_data]\n",
    "\n",
    "Other_data_X = np.concatenate((IDMT_Other_data, MVD_Other_data), axis=0)\n",
    "Other_data = np.random.choice(Other_data_X.shape[0], size=500, replace=False)\n",
    "Other_data = Other_data_X[Other_data]\n",
    "\n",
    "print(C_data_X.shape)\n",
    "print(M_data_X.shape)\n",
    "print(T_data_X.shape)\n",
    "print(Other_data_X.shape)\n",
    "\n",
    "print(C_data.shape)\n",
    "print(M_data.shape)\n",
    "print(T_data.shape)\n",
    "print(Other_data.shape)"
   ]
  },
  {
   "cell_type": "code",
   "execution_count": 258,
   "metadata": {},
   "outputs": [],
   "source": [
    "all_data = np.concatenate((C_data, M_data, T_data, Other_data), axis=0)"
   ]
  },
  {
   "cell_type": "markdown",
   "metadata": {},
   "source": []
  },
  {
   "cell_type": "markdown",
   "metadata": {},
   "source": []
  },
  {
   "cell_type": "markdown",
   "metadata": {},
   "source": []
  },
  {
   "cell_type": "markdown",
   "metadata": {},
   "source": []
  },
  {
   "cell_type": "code",
   "execution_count": 259,
   "metadata": {},
   "outputs": [
    {
     "data": {
      "image/png": "[encoded data removed]",
      "text/plain": [
       "<Figure size 1200x600 with 2 Axes>"
      ]
     },
     "metadata": {},
     "output_type": "display_data"
    },
    {
     "data": {
      "text/plain": [
       "<Figure size 640x480 with 0 Axes>"
      ]
     },
     "metadata": {},
     "output_type": "display_data"
    },
    {
     "name": "stdout",
     "output_type": "stream",
     "text": [
      "                              PC1       PC2       PC3       PC4\n",
      "frequency_coefficients  -0.165371 -0.070667 -0.090748  0.267754\n",
      "short_time_energy        0.330443  0.154856 -0.167083  0.072921\n",
      "average_zero_cross_rate  0.109053 -0.408729  0.175968  0.199682\n",
      "mode_var                 0.259390 -0.158770  0.155203 -0.282474\n",
      "k                        0.096779  0.297073  0.516433  0.372331\n",
      "s                        0.121670  0.344941  0.499293  0.242485\n",
      "mean                     0.351414  0.031978 -0.148636  0.025198\n",
      "i                        0.345356 -0.027950 -0.106621  0.087162\n",
      "g                        0.340397 -0.115984  0.030285 -0.116442\n",
      "h                        0.289198 -0.171189  0.132694 -0.257295\n",
      "dev                      0.342388 -0.045850 -0.085318  0.087730\n",
      "var                     -0.048158  0.495490  0.072574 -0.267249\n",
      "variance                 0.288653  0.201459 -0.181647  0.094122\n",
      "std                      0.326255  0.172804 -0.155826  0.076094\n",
      "gstd_var                -0.071474  0.138379 -0.475646  0.516332\n",
      "ent                      0.058529 -0.435605  0.211541  0.396910\n"
     ]
    }
   ],
   "source": [
    "numerical_df = pd.DataFrame(all_data, columns=['frequency_coefficients', 'short_time_energy', 'average_zero_cross_rate', \"mode_var\",\"k\",\"s\",\"mean\",\"i\",\"g\",\"h\",\"dev\",\"var\",\"variance\",\"std\",\"gstd_var\",\"ent\", 'class'])\n",
    "numerical_no_class = numerical_df.drop(columns=\"class\")\n",
    "# Standardize the numerical data\n",
    "standardized_data = (numerical_no_class - numerical_no_class.mean()) / numerical_no_class.std()\n",
    "#standardized_data = (numerical_df - numerical_df.mean()) / numerical_df.std()\n",
    "    \n",
    "# Perform PCA\n",
    "pca = PCA()\n",
    "principal_components = pca.fit_transform(standardized_data)\n",
    "    \n",
    "# Explained variance ratio\n",
    "explained_variance_ratio = pca.explained_variance_ratio_\n",
    "    \n",
    "# Plot explained variance ratio\n",
    "plt.figure(figsize=(12, 6))\n",
    "plt.subplot(1, 2, 1)\n",
    "plt.plot(np.cumsum(explained_variance_ratio), marker='o')\n",
    "plt.xlabel('Number of Principal Components')\n",
    "plt.ylabel('Cumulative Explained Variance Ratio')\n",
    "plt.title('Explained Variance Ratio by Principal Components')\n",
    "plt.grid(True)\n",
    "    \n",
    "# Plot key component plot\n",
    "\n",
    "class_colors = {0: 'red', 1: 'blue', 2: 'green', 3: 'orange'}  # Add more if needed\n",
    "#class_colors = {'B': 'red', 'C': 'blue', 'T': 'green', 'M': 'orange'}  # Add more if needed\n",
    "\n",
    "    \n",
    "# Create a custom colormap using ListedColormap\n",
    "plt.subplot(1, 2, 2)\n",
    "for category, color in class_colors.items():\n",
    "    plt.scatter(principal_components[numerical_df[\"class\"] == category, 0], \n",
    "                principal_components[numerical_df[\"class\"] == category, 1], \n",
    "                color=color, \n",
    "                label=category)\n",
    "plt.xlabel('Principal Component 1')\n",
    "plt.ylabel('Principal Component 2')\n",
    "plt.title('Key Component Plot')\n",
    "plt.legend()\n",
    "    \n",
    "plt.tight_layout()\n",
    "plt.show()\n",
    "    \n",
    "plt.tight_layout()\n",
    "plt.show()\n",
    "    \n",
    "# Return the PCA results\n",
    "result_dict =  {\n",
    "    'principal_components': principal_components,\n",
    "    'explained_variance_ratio': explained_variance_ratio,\n",
    "    'pca': pca\n",
    "}\n",
    "\n",
    "loadings = pca.components_[:4]\n",
    "loading_matrix = pd.DataFrame(loadings.T, columns=['PC1', 'PC2', 'PC3', 'PC4'], index=numerical_no_class.columns)\n",
    "print(loading_matrix)"
   ]
  },
  {
   "cell_type": "code",
   "execution_count": 278,
   "metadata": {},
   "outputs": [
    {
     "name": "stdout",
     "output_type": "stream",
     "text": [
      "Train accuracy: 0.94\n"
     ]
    }
   ],
   "source": [
    "pca = PCA(n_components=6)\n",
    "X_pca = pca.fit_transform(standardized_data)\n",
    "\n",
    "# 将数据集分割为训练集和测试集\n",
    "X_train, X_test, y_train, y_test = train_test_split(X_pca, numerical_df[\"class\"], test_size=0.2, random_state=42)\n",
    "\n",
    "rf = RandomForestClassifier(n_estimators=30, criterion='entropy', max_depth=10, random_state=43)\n",
    "\n",
    "# 训练模型\n",
    "rf.fit(X_train, y_train)\n",
    "\n",
    "# 预测训练集\n",
    "y_pred = rf.predict(X_train)\n",
    "accuracy = accuracy_score(y_train, y_pred)\n",
    "print(f\"Train accuracy: {accuracy:.2f}\")"
   ]
  },
  {
   "cell_type": "code",
   "execution_count": 279,
   "metadata": {},
   "outputs": [
    {
     "name": "stdout",
     "output_type": "stream",
     "text": [
      "[[390   4   0   2]\n",
      " [  0 402   3   0]\n",
      " [ 73   4 335   0]\n",
      " [  1   1   0 385]]\n",
      "[[0.98484848 0.01010101 0.         0.00505051]\n",
      " [0.         0.99259259 0.00740741 0.        ]\n",
      " [0.17718447 0.00970874 0.8131068  0.        ]\n",
      " [0.00258398 0.00258398 0.         0.99483204]]\n",
      "Test accuracy: 0.82\n",
      "[[ 87  11   2   4]\n",
      " [  6  76  12   1]\n",
      " [ 21   8  58   1]\n",
      " [  6   1   0 106]]\n",
      "[[0.83653846 0.10576923 0.01923077 0.03846154]\n",
      " [0.06315789 0.8        0.12631579 0.01052632]\n",
      " [0.23863636 0.09090909 0.65909091 0.01136364]\n",
      " [0.05309735 0.00884956 0.         0.9380531 ]]\n"
     ]
    }
   ],
   "source": [
    "# 使用confusion_matrix函数生成混淆矩阵\n",
    "cm = confusion_matrix(y_train, y_pred)\n",
    "# 打印混淆矩阵\n",
    "print(cm)\n",
    "cm_normalized = cm.astype('float') / cm.sum(axis=1)[:, np.newaxis]\n",
    "print(cm_normalized)\n",
    "\n",
    "# 预测测试集\n",
    "y_pred = rf.predict(X_test)\n",
    "accuracy = accuracy_score(y_test, y_pred)\n",
    "print(f\"Test accuracy: {accuracy:.2f}\")\n",
    "# 使用confusion_matrix函数生成混淆矩阵\n",
    "cm = confusion_matrix(y_test, y_pred)\n",
    "# 打印混淆矩阵\n",
    "print(cm)\n",
    "cm_normalized = cm.astype('float') / cm.sum(axis=1)[:, np.newaxis]\n",
    "print(cm_normalized)"
   ]
  },
  {
   "cell_type": "code",
   "execution_count": 280,
   "metadata": {},
   "outputs": [],
   "source": [
    "knn = KNeighborsClassifier(n_neighbors=10, metric='manhattan', weights='distance')\n",
    "svc = SVC(kernel='poly', C=100, degree=3, gamma='scale', probability=True)"
   ]
  },
  {
   "cell_type": "code",
   "execution_count": 281,
   "metadata": {},
   "outputs": [
    {
     "name": "stdout",
     "output_type": "stream",
     "text": [
      "Train accuracy: 1.00\n",
      "[[396   0   0   0]\n",
      " [  0 405   0   0]\n",
      " [  0   0 412   0]\n",
      " [  0   0   0 387]]\n",
      "[[1. 0. 0. 0.]\n",
      " [0. 1. 0. 0.]\n",
      " [0. 0. 1. 0.]\n",
      " [0. 0. 0. 1.]]\n",
      "Test accuracy: 0.80\n",
      "[[ 77  13  12   2]\n",
      " [  5  77  11   2]\n",
      " [ 20   8  60   0]\n",
      " [  6   2   0 105]]\n",
      "[[0.74038462 0.125      0.11538462 0.01923077]\n",
      " [0.05263158 0.81052632 0.11578947 0.02105263]\n",
      " [0.22727273 0.09090909 0.68181818 0.        ]\n",
      " [0.05309735 0.01769912 0.         0.92920354]]\n"
     ]
    }
   ],
   "source": [
    "knn.fit(X_train, y_train)\n",
    "\n",
    "# 预测训练集\n",
    "y_pred = knn.predict(X_train)\n",
    "accuracy = accuracy_score(y_train, y_pred)\n",
    "print(f\"Train accuracy: {accuracy:.2f}\")\n",
    "# 使用confusion_matrix函数生成混淆矩阵\n",
    "cm = confusion_matrix(y_train, y_pred)\n",
    "# 打印混淆矩阵\n",
    "print(cm)\n",
    "cm_normalized = cm.astype('float') / cm.sum(axis=1)[:, np.newaxis]\n",
    "print(cm_normalized)\n",
    "\n",
    "# 预测测试集\n",
    "y_pred = knn.predict(X_test)\n",
    "accuracy = accuracy_score(y_test, y_pred)\n",
    "print(f\"Test accuracy: {accuracy:.2f}\")\n",
    "# 使用confusion_matrix函数生成混淆矩阵\n",
    "cm = confusion_matrix(y_test, y_pred)\n",
    "# 打印混淆矩阵\n",
    "print(cm)\n",
    "cm_normalized = cm.astype('float') / cm.sum(axis=1)[:, np.newaxis]\n",
    "print(cm_normalized)"
   ]
  },
  {
   "cell_type": "code",
   "execution_count": 282,
   "metadata": {},
   "outputs": [
    {
     "name": "stdout",
     "output_type": "stream",
     "text": [
      "Train accuracy: 0.82\n",
      "[[335  47   7   7]\n",
      " [ 17 360  26   2]\n",
      " [125  32 255   0]\n",
      " [ 17   9   0 361]]\n",
      "[[0.8459596  0.11868687 0.01767677 0.01767677]\n",
      " [0.04197531 0.88888889 0.06419753 0.00493827]\n",
      " [0.30339806 0.0776699  0.61893204 0.        ]\n",
      " [0.04392765 0.02325581 0.         0.93281654]]\n",
      "Test accuracy: 0.80\n",
      "[[ 88  12   1   3]\n",
      " [  8  74  13   0]\n",
      " [ 23  12  52   1]\n",
      " [  6   2   0 105]]\n",
      "[[0.84615385 0.11538462 0.00961538 0.02884615]\n",
      " [0.08421053 0.77894737 0.13684211 0.        ]\n",
      " [0.26136364 0.13636364 0.59090909 0.01136364]\n",
      " [0.05309735 0.01769912 0.         0.92920354]]\n"
     ]
    }
   ],
   "source": [
    "svc.fit(X_train, y_train)\n",
    "\n",
    "# 预测训练集\n",
    "y_pred = svc.predict(X_train)\n",
    "accuracy = accuracy_score(y_train, y_pred)\n",
    "print(f\"Train accuracy: {accuracy:.2f}\")\n",
    "# 使用confusion_matrix函数生成混淆矩阵\n",
    "cm = confusion_matrix(y_train, y_pred)\n",
    "# 打印混淆矩阵\n",
    "print(cm)\n",
    "cm_normalized = cm.astype('float') / cm.sum(axis=1)[:, np.newaxis]\n",
    "print(cm_normalized)\n",
    "\n",
    "# 预测测试集\n",
    "y_pred = svc.predict(X_test)\n",
    "accuracy = accuracy_score(y_test, y_pred)\n",
    "print(f\"Test accuracy: {accuracy:.2f}\")\n",
    "# 使用confusion_matrix函数生成混淆矩阵\n",
    "cm = confusion_matrix(y_test, y_pred)\n",
    "# 打印混淆矩阵\n",
    "print(cm)\n",
    "cm_normalized = cm.astype('float') / cm.sum(axis=1)[:, np.newaxis]\n",
    "print(cm_normalized)"
   ]
  }
 ],
 "metadata": {
  "kernelspec": {
   "display_name": "base",
   "language": "python",
   "name": "python3"
  },
  "language_info": {
   "codemirror_mode": {
    "name": "ipython",
    "version": 3
   },
   "file_extension": ".py",
   "mimetype": "text/x-python",
   "name": "python",
   "nbconvert_exporter": "python",
   "pygments_lexer": "ipython3",
   "version": "3.11.5"
  }
 },
 "nbformat": 4,
 "nbformat_minor": 2
}
